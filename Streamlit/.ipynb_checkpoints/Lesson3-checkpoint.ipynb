{
 "cells": [
  {
   "cell_type": "markdown",
   "metadata": {},
   "source": [
    "# Loading libraries"
   ]
  },
  {
   "cell_type": "code",
   "execution_count": 1,
   "metadata": {},
   "outputs": [],
   "source": [
    "import numpy as np\n",
    "import pandas as pd\n",
    "import matplotlib.pyplot as plt\n",
    "import seaborn as sns\n",
    "import warnings\n",
    "import pymysql\n",
    "from sqlalchemy import create_engine\n",
    "import pandas as pd\n",
    "import getpass  # To get the password without showing the input\n",
    "from sklearn.model_selection import train_test_split\n",
    "from sklearn.linear_model import LogisticRegression\n",
    "from sklearn.preprocessing import Normalizer, StandardScaler, OneHotEncoder\n",
    "import pickle, os\n",
    "warnings.filterwarnings(\"ignore\")\n",
    "%matplotlib inline"
   ]
  },
  {
   "cell_type": "markdown",
   "metadata": {},
   "source": [
    "# Creating the connection"
   ]
  },
  {
   "cell_type": "code",
   "execution_count": 2,
   "metadata": {},
   "outputs": [
    {
     "name": "stdout",
     "output_type": "stream",
     "text": [
      "Please type your SQL password: ········\n"
     ]
    }
   ],
   "source": [
    "password = getpass.getpass(\"Please type your SQL password: \")\n",
    "# We create the connection\n",
    "connection_string = 'mysql+pymysql://root:' + password + '@localhost/bank'\n",
    "engine = create_engine(connection_string)"
   ]
  },
  {
   "cell_type": "markdown",
   "metadata": {},
   "source": [
    "# Defining functions"
   ]
  },
  {
   "cell_type": "code",
   "execution_count": 3,
   "metadata": {
    "scrolled": true
   },
   "outputs": [
    {
     "name": "stdout",
     "output_type": "stream",
     "text": [
      "Overwriting functions.py\n"
     ]
    }
   ],
   "source": [
    "%%writefile functions.py\n",
    "#Data gathering step: Extracting the data \n",
    "def get_AB_loans(engine):\n",
    "    import pandas as pd\n",
    "    query = '''select t.type, t.operation, t.amount as t_amount, t.balance, t.k_symbol, l.amount as l_amount, l.duration, l.payments, l.status\n",
    "    from trans t\n",
    "    left join loan l\n",
    "    on t.account_id = l.account_id\n",
    "    where l.status in ('A', 'B');'''\n",
    "    data = pd.read_sql_query(query, engine)\n",
    "    return data\n",
    "\n",
    "def cleanOperation(x):\n",
    "    x = x.lower()\n",
    "    if 'vyber' in x:\n",
    "        return \"vyber\"\n",
    "    elif 'prevod' in x:\n",
    "        return \"prevod\"\n",
    "    elif 'vklad' in x:\n",
    "        return 'vklad'\n",
    "    else:\n",
    "        return 'unknown'\n",
    "\n",
    "def cleankSymbol(x):\n",
    "    if x in ['', ' ']:\n",
    "        return 'unknown'\n",
    "    else:\n",
    "        return x\n",
    "\n",
    "def cleanDuration(x):\n",
    "    if x in ['48', '60']:\n",
    "        return 'other'\n",
    "    else:\n",
    "        return str(x)\n",
    "\n",
    "def preprocess(df):\n",
    "    df['duration'] = df['duration'].astype('str')\n",
    "    df['operation'] = list(map(cleanOperation,df['operation']))\n",
    "    df['k_symbol'] = list(map(cleankSymbol, df['k_symbol']))\n",
    "    df = df[~df['k_symbol'].isin(['POJISTINE', 'SANKC. UROK', 'UVER'])]\n",
    "    df['duration'] = list(map(cleanDuration, df['duration']))\n",
    "    df.reset_index(inplace=True, drop=True)\n",
    "    return df"
   ]
  },
  {
   "cell_type": "code",
   "execution_count": 4,
   "metadata": {},
   "outputs": [],
   "source": [
    "from functions import get_AB_loans, cleanOperation, cleankSymbol, cleanDuration, preprocess"
   ]
  },
  {
   "cell_type": "code",
   "execution_count": 5,
   "metadata": {},
   "outputs": [
    {
     "data": {
      "text/html": [
       "<div>\n",
       "<style scoped>\n",
       "    .dataframe tbody tr th:only-of-type {\n",
       "        vertical-align: middle;\n",
       "    }\n",
       "\n",
       "    .dataframe tbody tr th {\n",
       "        vertical-align: top;\n",
       "    }\n",
       "\n",
       "    .dataframe thead th {\n",
       "        text-align: right;\n",
       "    }\n",
       "</style>\n",
       "<table border=\"1\" class=\"dataframe\">\n",
       "  <thead>\n",
       "    <tr style=\"text-align: right;\">\n",
       "      <th></th>\n",
       "      <th>type</th>\n",
       "      <th>operation</th>\n",
       "      <th>t_amount</th>\n",
       "      <th>balance</th>\n",
       "      <th>k_symbol</th>\n",
       "      <th>l_amount</th>\n",
       "      <th>duration</th>\n",
       "      <th>payments</th>\n",
       "      <th>status</th>\n",
       "    </tr>\n",
       "  </thead>\n",
       "  <tbody>\n",
       "    <tr>\n",
       "      <th>0</th>\n",
       "      <td>PRIJEM</td>\n",
       "      <td>PREVOD Z UCTU</td>\n",
       "      <td>44749.0</td>\n",
       "      <td>45549.0</td>\n",
       "      <td></td>\n",
       "      <td>79608</td>\n",
       "      <td>24</td>\n",
       "      <td>3317.0</td>\n",
       "      <td>A</td>\n",
       "    </tr>\n",
       "    <tr>\n",
       "      <th>1</th>\n",
       "      <td>PRIJEM</td>\n",
       "      <td>VKLAD</td>\n",
       "      <td>1000.0</td>\n",
       "      <td>1000.0</td>\n",
       "      <td></td>\n",
       "      <td>52788</td>\n",
       "      <td>12</td>\n",
       "      <td>4399.0</td>\n",
       "      <td>A</td>\n",
       "    </tr>\n",
       "    <tr>\n",
       "      <th>2</th>\n",
       "      <td>PRIJEM</td>\n",
       "      <td>VKLAD</td>\n",
       "      <td>1100.0</td>\n",
       "      <td>1100.0</td>\n",
       "      <td></td>\n",
       "      <td>21924</td>\n",
       "      <td>36</td>\n",
       "      <td>609.0</td>\n",
       "      <td>A</td>\n",
       "    </tr>\n",
       "    <tr>\n",
       "      <th>3</th>\n",
       "      <td>PRIJEM</td>\n",
       "      <td>VKLAD</td>\n",
       "      <td>700.0</td>\n",
       "      <td>700.0</td>\n",
       "      <td></td>\n",
       "      <td>23052</td>\n",
       "      <td>12</td>\n",
       "      <td>1921.0</td>\n",
       "      <td>A</td>\n",
       "    </tr>\n",
       "    <tr>\n",
       "      <th>4</th>\n",
       "      <td>PRIJEM</td>\n",
       "      <td>VKLAD</td>\n",
       "      <td>900.0</td>\n",
       "      <td>900.0</td>\n",
       "      <td></td>\n",
       "      <td>41904</td>\n",
       "      <td>12</td>\n",
       "      <td>3492.0</td>\n",
       "      <td>A</td>\n",
       "    </tr>\n",
       "    <tr>\n",
       "      <th>...</th>\n",
       "      <td>...</td>\n",
       "      <td>...</td>\n",
       "      <td>...</td>\n",
       "      <td>...</td>\n",
       "      <td>...</td>\n",
       "      <td>...</td>\n",
       "      <td>...</td>\n",
       "      <td>...</td>\n",
       "      <td>...</td>\n",
       "    </tr>\n",
       "    <tr>\n",
       "      <th>74359</th>\n",
       "      <td>PRIJEM</td>\n",
       "      <td></td>\n",
       "      <td>221.3</td>\n",
       "      <td>48019.4</td>\n",
       "      <td>UROK</td>\n",
       "      <td>131292</td>\n",
       "      <td>36</td>\n",
       "      <td>3647.0</td>\n",
       "      <td>A</td>\n",
       "    </tr>\n",
       "    <tr>\n",
       "      <th>74360</th>\n",
       "      <td>PRIJEM</td>\n",
       "      <td></td>\n",
       "      <td>227.6</td>\n",
       "      <td>108432.0</td>\n",
       "      <td>UROK</td>\n",
       "      <td>168984</td>\n",
       "      <td>24</td>\n",
       "      <td>7041.0</td>\n",
       "      <td>B</td>\n",
       "    </tr>\n",
       "    <tr>\n",
       "      <th>74361</th>\n",
       "      <td>PRIJEM</td>\n",
       "      <td></td>\n",
       "      <td>235.7</td>\n",
       "      <td>53703.3</td>\n",
       "      <td>UROK</td>\n",
       "      <td>182628</td>\n",
       "      <td>36</td>\n",
       "      <td>5073.0</td>\n",
       "      <td>A</td>\n",
       "    </tr>\n",
       "    <tr>\n",
       "      <th>74362</th>\n",
       "      <td>PRIJEM</td>\n",
       "      <td></td>\n",
       "      <td>293.0</td>\n",
       "      <td>85131.6</td>\n",
       "      <td>UROK</td>\n",
       "      <td>274740</td>\n",
       "      <td>60</td>\n",
       "      <td>4579.0</td>\n",
       "      <td>A</td>\n",
       "    </tr>\n",
       "    <tr>\n",
       "      <th>74363</th>\n",
       "      <td>PRIJEM</td>\n",
       "      <td></td>\n",
       "      <td>395.6</td>\n",
       "      <td>96741.4</td>\n",
       "      <td>UROK</td>\n",
       "      <td>151560</td>\n",
       "      <td>24</td>\n",
       "      <td>6315.0</td>\n",
       "      <td>A</td>\n",
       "    </tr>\n",
       "  </tbody>\n",
       "</table>\n",
       "<p>74364 rows × 9 columns</p>\n",
       "</div>"
      ],
      "text/plain": [
       "         type      operation  t_amount   balance k_symbol  l_amount  duration  \\\n",
       "0      PRIJEM  PREVOD Z UCTU   44749.0   45549.0              79608        24   \n",
       "1      PRIJEM          VKLAD    1000.0    1000.0              52788        12   \n",
       "2      PRIJEM          VKLAD    1100.0    1100.0              21924        36   \n",
       "3      PRIJEM          VKLAD     700.0     700.0              23052        12   \n",
       "4      PRIJEM          VKLAD     900.0     900.0              41904        12   \n",
       "...       ...            ...       ...       ...      ...       ...       ...   \n",
       "74359  PRIJEM                    221.3   48019.4     UROK    131292        36   \n",
       "74360  PRIJEM                    227.6  108432.0     UROK    168984        24   \n",
       "74361  PRIJEM                    235.7   53703.3     UROK    182628        36   \n",
       "74362  PRIJEM                    293.0   85131.6     UROK    274740        60   \n",
       "74363  PRIJEM                    395.6   96741.4     UROK    151560        24   \n",
       "\n",
       "       payments status  \n",
       "0        3317.0      A  \n",
       "1        4399.0      A  \n",
       "2         609.0      A  \n",
       "3        1921.0      A  \n",
       "4        3492.0      A  \n",
       "...         ...    ...  \n",
       "74359    3647.0      A  \n",
       "74360    7041.0      B  \n",
       "74361    5073.0      A  \n",
       "74362    4579.0      A  \n",
       "74363    6315.0      A  \n",
       "\n",
       "[74364 rows x 9 columns]"
      ]
     },
     "execution_count": 5,
     "metadata": {},
     "output_type": "execute_result"
    }
   ],
   "source": [
    "data = get_AB_loans(engine)\n",
    "data"
   ]
  },
  {
   "cell_type": "code",
   "execution_count": 7,
   "metadata": {},
   "outputs": [
    {
     "data": {
      "text/plain": [
       "array(['PRIJEM', 'VYDAJ', 'VYBER'], dtype=object)"
      ]
     },
     "execution_count": 7,
     "metadata": {},
     "output_type": "execute_result"
    }
   ],
   "source": [
    "data['type'].unique()"
   ]
  },
  {
   "cell_type": "code",
   "execution_count": 8,
   "metadata": {},
   "outputs": [
    {
     "data": {
      "text/plain": [
       "array(['PREVOD Z UCTU', 'VKLAD', '', 'VYBER', 'PREVOD NA UCET',\n",
       "       'VYBER KARTOU'], dtype=object)"
      ]
     },
     "execution_count": 8,
     "metadata": {},
     "output_type": "execute_result"
    }
   ],
   "source": [
    "data['operation'].unique()"
   ]
  },
  {
   "cell_type": "code",
   "execution_count": 9,
   "metadata": {},
   "outputs": [
    {
     "data": {
      "text/plain": [
       "array(['', 'UROK', ' ', 'SIPO', 'SLUZBY', 'POJISTNE', 'UVER',\n",
       "       'SANKC. UROK'], dtype=object)"
      ]
     },
     "execution_count": 9,
     "metadata": {},
     "output_type": "execute_result"
    }
   ],
   "source": [
    "data['k_symbol'].unique()"
   ]
  },
  {
   "cell_type": "code",
   "execution_count": 10,
   "metadata": {},
   "outputs": [
    {
     "data": {
      "text/plain": [
       "array([24, 12, 36, 48, 60])"
      ]
     },
     "execution_count": 10,
     "metadata": {},
     "output_type": "execute_result"
    }
   ],
   "source": [
    "data['duration'].unique()"
   ]
  },
  {
   "cell_type": "code",
   "execution_count": null,
   "metadata": {},
   "outputs": [],
   "source": [
    "data = preprocess(data)\n",
    "data"
   ]
  },
  {
   "cell_type": "markdown",
   "metadata": {},
   "source": [
    "# Checking for multicollinearity"
   ]
  },
  {
   "cell_type": "code",
   "execution_count": null,
   "metadata": {},
   "outputs": [],
   "source": [
    "corr_matrix=data.corr(method='pearson')  # default\n",
    "fig, ax = plt.subplots(figsize=(10, 8))\n",
    "ax = sns.heatmap(corr_matrix, annot=True)\n",
    "plt.show()"
   ]
  },
  {
   "cell_type": "markdown",
   "metadata": {},
   "source": [
    "# Plotting histograms of numerical features"
   ]
  },
  {
   "cell_type": "code",
   "execution_count": null,
   "metadata": {},
   "outputs": [],
   "source": [
    "sns.distplot(data['t_amount'])\n",
    "plt.show()\n",
    "\n",
    "sns.distplot(data['l_amount'])\n",
    "plt.show()\n",
    "\n",
    "sns.distplot(data['balance'])\n",
    "plt.show()\n",
    "\n",
    "sns.distplot(data['payments'])\n",
    "plt.show()"
   ]
  },
  {
   "cell_type": "markdown",
   "metadata": {},
   "source": [
    "# Selecting numerical features. "
   ]
  },
  {
   "cell_type": "markdown",
   "metadata": {},
   "source": [
    "Sometimes, we may need to have an speciall preprocessing for numerical features (fill missing values,..etc). Therefore, sometimes (not the case here) it's interesting to have them separatelly."
   ]
  },
  {
   "cell_type": "code",
   "execution_count": null,
   "metadata": {},
   "outputs": [],
   "source": [
    "numerical = data.select_dtypes(include = np.number)"
   ]
  },
  {
   "cell_type": "code",
   "execution_count": null,
   "metadata": {},
   "outputs": [],
   "source": [
    "numerical.shape"
   ]
  },
  {
   "cell_type": "markdown",
   "metadata": {},
   "source": [
    "# Selecting the categorical features"
   ]
  },
  {
   "cell_type": "markdown",
   "metadata": {},
   "source": [
    "Usually the categorical features need different preprocessing than the numerical features. Therefore, it's interesting to have them separatelly."
   ]
  },
  {
   "cell_type": "code",
   "execution_count": null,
   "metadata": {},
   "outputs": [],
   "source": [
    "categorical = data.select_dtypes(include = np.object)\n",
    "\n",
    "# We drop the 'status' column because is our dependent feature.\n",
    "categorical = categorical.drop(['status'], axis=1)"
   ]
  },
  {
   "cell_type": "markdown",
   "metadata": {},
   "source": [
    "## Dummifying categorical features"
   ]
  },
  {
   "cell_type": "markdown",
   "metadata": {},
   "source": [
    "Define the possible values of each categorical feature BEFORE any train-test split. This is to avoid that some of the possible values of one or more categorical columns will not be taken into account during the dummification because they will be in the test set but not in the train set. To do this, we define the list 'data_categories' that have will one list for each categorical feature. Each sublist will have all the possible values of each categorical feature."
   ]
  },
  {
   "cell_type": "code",
   "execution_count": null,
   "metadata": {},
   "outputs": [],
   "source": [
    "data_categories = [] \n",
    "for col in categorical.columns:\n",
    "    data_categories.append(categorical[col].unique().tolist())"
   ]
  },
  {
   "cell_type": "code",
   "execution_count": null,
   "metadata": {},
   "outputs": [],
   "source": [
    "## The option drop='first' is drop the first possible value of each feature to avoid the 'dummy trap'\n",
    "encoder = OneHotEncoder(drop='first', categories = data_categories) "
   ]
  },
  {
   "cell_type": "code",
   "execution_count": null,
   "metadata": {},
   "outputs": [],
   "source": [
    "## We fit the encoder to let it know what are the current categorical values in our dataframe\n",
    "encoder.fit(categorical)\n",
    "cat_transformed = encoder.transform(categorical) # This will become a numpy array without columns names!!!"
   ]
  },
  {
   "cell_type": "markdown",
   "metadata": {},
   "source": [
    "We want to have a dataframe with column names instead of a numpy array. Therefore, we're going to store the right column names"
   ]
  },
  {
   "cell_type": "code",
   "execution_count": null,
   "metadata": {},
   "outputs": [],
   "source": [
    "## We define the column names\n",
    "col_names = []\n",
    "for index, col in enumerate(categorical.columns):\n",
    "    # Remember thar the OneHotEncoder doesn't know the first value of the category because we have used drop='first'\n",
    "    # when setting the encoder\n",
    "    col_names += [col + '_' + category for category in data_categories[index][1:]]\n",
    "col_names "
   ]
  },
  {
   "cell_type": "code",
   "execution_count": null,
   "metadata": {},
   "outputs": [],
   "source": [
    "categorical = pd.DataFrame(cat_transformed.toarray(), columns = col_names)\n",
    "categorical"
   ]
  },
  {
   "cell_type": "markdown",
   "metadata": {},
   "source": [
    "As you can see, this new dataframe contains entries of 0/1 wether the corresponding row takes the value of the\n",
    "categorical column or not. You can also see that with the column 'type', only two possible values appear. \n",
    "This is because we used the option drop='first'. Why? Because if the row is not 'VYDAJ' or 'VYBER' we already \n",
    "know what it's the value: 'PRIJEM', the missing one. The same applies to the other columns."
   ]
  },
  {
   "cell_type": "markdown",
   "metadata": {},
   "source": [
    "# Saving the encoder"
   ]
  },
  {
   "cell_type": "code",
   "execution_count": null,
   "metadata": {},
   "outputs": [],
   "source": [
    "# Creating a folder in the current folder to save the transformer\n",
    "if (not os.path.exists('encoders')):\n",
    "    os.makedirs('encoders')\n",
    "    # Saving the encoder for later\n",
    "    pickle.dump(encoder, open('encoders/one_hot_encoder.pkl', 'wb'))"
   ]
  },
  {
   "cell_type": "markdown",
   "metadata": {},
   "source": [
    "# Data splitting"
   ]
  },
  {
   "cell_type": "code",
   "execution_count": null,
   "metadata": {},
   "outputs": [],
   "source": [
    "# Model building\n",
    "## We start defining our dependent and independent features.\n",
    "y = data['status']\n",
    "X = pd.concat([numerical, categorical], axis=1)\n",
    "X"
   ]
  },
  {
   "cell_type": "markdown",
   "metadata": {},
   "source": [
    "# Train-test split"
   ]
  },
  {
   "cell_type": "code",
   "execution_count": null,
   "metadata": {},
   "outputs": [],
   "source": [
    "X_train, X_test, y_train, y_test = train_test_split(X, y, test_size=0.3, random_state=100)"
   ]
  },
  {
   "cell_type": "markdown",
   "metadata": {},
   "source": [
    "# Transforming the data with transformer"
   ]
  },
  {
   "cell_type": "code",
   "execution_count": null,
   "metadata": {},
   "outputs": [],
   "source": [
    "## Transforming the dataframe with a transformer\n",
    "transformer = StandardScaler()\n",
    "transformer.fit(X_train)\n",
    "X_train_trans = transformer.transform(X_train)\n",
    "X_test_trans  = transformer.transform(X_test)\n",
    "\n",
    "X_train_trans_df = pd.DataFrame(X_train_trans, columns = X_train.columns)\n",
    "X_test_trans_df  = pd.DataFrame(X_test_trans,  columns = X_test.columns)"
   ]
  },
  {
   "cell_type": "markdown",
   "metadata": {},
   "source": [
    "# Saving the transformer"
   ]
  },
  {
   "cell_type": "code",
   "execution_count": null,
   "metadata": {},
   "outputs": [],
   "source": [
    "# Creating a folder in the current folder to save the transformer\n",
    "if (not os.path.exists('transformers')):\n",
    "    os.makedirs('transformers')\n",
    "    # Saving the transformer for later\n",
    "    pickle.dump(transformer, open('transformers/standard_scaler.pkl', 'wb'))"
   ]
  },
  {
   "cell_type": "markdown",
   "metadata": {},
   "source": [
    "# Creating the model"
   ]
  },
  {
   "cell_type": "code",
   "execution_count": null,
   "metadata": {},
   "outputs": [],
   "source": [
    "model = LogisticRegression()\n",
    "model.fit(X_train_trans_df, y_train)"
   ]
  },
  {
   "cell_type": "markdown",
   "metadata": {},
   "source": [
    "# Saving the model"
   ]
  },
  {
   "cell_type": "code",
   "execution_count": null,
   "metadata": {},
   "outputs": [],
   "source": [
    "# Saving the model\n",
    "# Creating a folder in the current folder to save the model\n",
    "if (not os.path.exists('models')):\n",
    "    os.makedirs('models')\n",
    "    # Saving the transformer for later\n",
    "    pickle.dump(model, open('models/logistic_model.pkl', 'wb'))"
   ]
  },
  {
   "cell_type": "markdown",
   "metadata": {},
   "source": [
    "# Making predictions"
   ]
  },
  {
   "cell_type": "code",
   "execution_count": null,
   "metadata": {},
   "outputs": [],
   "source": [
    "y_train_pred = model.predict(X_train_trans_df)\n",
    "y_test_pred  = model.predict(X_test_trans_df)\n",
    "\n",
    "y_train_pred"
   ]
  },
  {
   "cell_type": "code",
   "execution_count": null,
   "metadata": {},
   "outputs": [],
   "source": []
  }
 ],
 "metadata": {
  "kernelspec": {
   "display_name": "Python 3",
   "language": "python",
   "name": "python3"
  },
  "language_info": {
   "codemirror_mode": {
    "name": "ipython",
    "version": 3
   },
   "file_extension": ".py",
   "mimetype": "text/x-python",
   "name": "python",
   "nbconvert_exporter": "python",
   "pygments_lexer": "ipython3",
   "version": "3.7.9"
  }
 },
 "nbformat": 4,
 "nbformat_minor": 5
}
